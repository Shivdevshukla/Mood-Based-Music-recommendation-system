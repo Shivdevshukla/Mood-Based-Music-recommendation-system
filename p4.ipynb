{
 "cells": [
  {
   "cell_type": "code",
   "execution_count": 9,
   "id": "8c2997e3",
   "metadata": {},
   "outputs": [
    {
     "name": "stdout",
     "output_type": "stream",
     "text": [
      "          tempo  loudness  danceability\n",
      "0.25   99.21875   -10.013         0.456\n",
      "0.50  122.01700    -7.004         0.580\n",
      "0.75  140.07100    -5.003         0.695\n"
     ]
    }
   ],
   "source": [
    "import pandas as pd\n",
    "\n",
    "# Load dataset\n",
    "df = pd.read_csv(\"dataset.csv\")\n",
    "\n",
    "# Only these features\n",
    "features = [\"tempo\", \"loudness\", \"danceability\"]\n",
    "\n",
    "# Quartiles\n",
    "quartiles = df[features].quantile([0.25, 0.5, 0.75])\n",
    "print(quartiles)\n"
   ]
  },
  {
   "cell_type": "code",
   "execution_count": 14,
   "id": "94a04ced",
   "metadata": {},
   "outputs": [],
   "source": [
    "def mood_mapper(tempo, loudness, danceability, q):\n",
    "    # Loudness category\n",
    "    if loudness >= q[\"loudness\"].loc[0.75]:\n",
    "        loud_cat = \"high\"\n",
    "    elif loudness <= q[\"loudness\"].loc[0.25]:\n",
    "        loud_cat = \"low\"\n",
    "    else:\n",
    "        loud_cat = \"mid\"\n",
    "    \n",
    "    # Tempo category\n",
    "    if tempo >= q[\"tempo\"].loc[0.75]:\n",
    "        tempo_cat = \"fast\"\n",
    "    elif tempo <= q[\"tempo\"].loc[0.25]:\n",
    "        tempo_cat = \"slow\"\n",
    "    else:\n",
    "        tempo_cat = \"mid\"\n",
    "    \n",
    "    # Danceability category\n",
    "    if danceability >= q[\"danceability\"].loc[0.75]:\n",
    "        dance_cat = \"high\"\n",
    "    elif danceability <= q[\"danceability\"].loc[0.25]:\n",
    "        dance_cat = \"low\"\n",
    "    else:\n",
    "        dance_cat = \"mid\"\n",
    "\n",
    "    # Mood rules (relaxed, not over-constrained)\n",
    "    if tempo_cat == \"fast\" and dance_cat == \"high\" and loud_cat == \"high\":\n",
    "        return \"Happy / Energetic (High Beat Party)\"\n",
    "    \n",
    "    elif tempo_cat in [\"mid\", \"fast\"] and dance_cat in [\"mid\", \"high\"] and loud_cat in [\"mid\", \"high\"]:\n",
    "        return \"Happy / Energetic (Pleasant)\"\n",
    "    \n",
    "    elif tempo_cat == \"mid\" and dance_cat == \"mid\":\n",
    "        return \"Uplifting / Positive\"\n",
    "    \n",
    "    elif tempo_cat == \"slow\" and loud_cat == \"low\":\n",
    "        return \"Calm / Peaceful\"\n",
    "    \n",
    "    elif tempo_cat == \"slow\" and dance_cat == \"low\":\n",
    "        return \"Relaxation / Safety\"\n",
    "    \n",
    "    elif tempo_cat == \"mid\" and dance_cat in [\"mid\", \"low\"]:\n",
    "        return \"Balanced / Neutral\"\n",
    "    \n",
    "    else:\n",
    "        # Instead of dumping, force it into closest vibe\n",
    "        if tempo_cat == \"fast\":\n",
    "            return \"High Energy / Excited\"\n",
    "        elif tempo_cat == \"slow\":\n",
    "            return \"Calm / Peaceful\"\n",
    "        else:\n",
    "            return \"Balanced / Neutral\"\n"
   ]
  },
  {
   "cell_type": "code",
   "execution_count": null,
   "id": "f5b17c48",
   "metadata": {},
   "outputs": [],
   "source": []
  },
  {
   "cell_type": "code",
   "execution_count": 15,
   "id": "e47e2a54",
   "metadata": {},
   "outputs": [
    {
     "name": "stdout",
     "output_type": "stream",
     "text": [
      "MoodCategory\n",
      "Happy / Energetic (Pleasant)           51442\n",
      "Calm / Peaceful                        24577\n",
      "Balanced / Neutral                     13245\n",
      "High Energy / Excited                  13221\n",
      "Uplifting / Positive                    6436\n",
      "Relaxation / Safety                     3923\n",
      "Happy / Energetic (High Beat Party)     1156\n",
      "Name: count, dtype: int64\n"
     ]
    }
   ],
   "source": [
    "df[\"MoodCategory\"] = df.apply(\n",
    "    lambda row: mood_mapper(row[\"tempo\"], row[\"loudness\"], row[\"danceability\"], quartiles),\n",
    "    axis=1\n",
    ")\n",
    "\n",
    "# Save\n",
    "df.to_csv(\"dataset_with_moods_tld.csv\", index=False)\n",
    "\n",
    "# Distribution\n",
    "print(df[\"MoodCategory\"].value_counts())\n"
   ]
  },
  {
   "cell_type": "code",
   "execution_count": null,
   "id": "924e6cb1",
   "metadata": {},
   "outputs": [],
   "source": []
  },
  {
   "cell_type": "code",
   "execution_count": null,
   "id": "bd40e014",
   "metadata": {},
   "outputs": [],
   "source": []
  },
  {
   "cell_type": "code",
   "execution_count": null,
   "id": "e3d83993",
   "metadata": {},
   "outputs": [],
   "source": []
  }
 ],
 "metadata": {
  "kernelspec": {
   "display_name": "Python 3",
   "language": "python",
   "name": "python3"
  },
  "language_info": {
   "codemirror_mode": {
    "name": "ipython",
    "version": 3
   },
   "file_extension": ".py",
   "mimetype": "text/x-python",
   "name": "python",
   "nbconvert_exporter": "python",
   "pygments_lexer": "ipython3",
   "version": "3.13.1"
  }
 },
 "nbformat": 4,
 "nbformat_minor": 5
}
